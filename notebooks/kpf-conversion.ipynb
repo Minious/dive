{
 "metadata": {
  "language_info": {
   "codemirror_mode": {
    "name": "ipython",
    "version": 3
   },
   "file_extension": ".py",
   "mimetype": "text/x-python",
   "name": "python",
   "nbconvert_exporter": "python",
   "pygments_lexer": "ipython3",
   "version": "3.9.0"
  },
  "orig_nbformat": 2,
  "kernelspec": {
   "name": "python390jvsc74a57bd0f408ce191dd1fad9c1cfa59fe2244e9187c884643f5ef12fb0718378c32240da",
   "display_name": "Python 3.9.0 64-bit ('dive': pyenv)"
  }
 },
 "nbformat": 4,
 "nbformat_minor": 2,
 "cells": [
  {
   "cell_type": "code",
   "execution_count": null,
   "metadata": {
    "tags": []
   },
   "outputs": [],
   "source": [
    "# Run conversion from KPF (Kwiver Packet Format) to DIVE JSON\n",
    "# https://kwiver-diva.readthedocs.io/en/latest/kpf.html\n",
    "# https://docs.google.com/document/d/14FGtZcpWSngh89lb8t7zFnIPQTeESoTZOEufqfXUqgI/edit#\n",
    "from dive_server.serializers.kpf import meva\n",
    "from dive_server.serializers import viame\n",
    "import json\n",
    "\n",
    "# Populate `./kpf` with the files listed below\n",
    "activities_filename = './kpf/activities.yml'\n",
    "geom_filename = './kpf/geom.yml'\n",
    "types_filename = './kpf/types.yml'\n",
    "\n",
    "# These files will be created in the same folder\n",
    "output_json = 'kpf/result_dive_output.json'\n",
    "output_csv = 'kpf/result_dive_output.csv'\n",
    "\n",
    "activity_map = {}\n",
    "actor_map = {}\n",
    "\n",
    "# Populate track and actor maps\n",
    "with open(activities_filename) as f:\n",
    "    meva.deserialize_activities(f, activity_map, actor_map)\n",
    "with open(geom_filename) as f:\n",
    "    meva.deserialize_geom(f, actor_map)\n",
    "with open(types_filename) as f:\n",
    "    meva.deserialize_types(f, actor_map)\n",
    "\n",
    "# Convert pydantic models to plain objects\n",
    "trackmap = meva.parse_actor_map_to_tracks(actor_map)\n",
    "plain_trackmap = {}\n",
    "for track in trackmap.values():\n",
    "    plain_trackmap[track.trackId] = track.dict(exclude_none=True)\n",
    "\n",
    "# Export files\n",
    "with open(output_json, \"w\") as out:\n",
    "    out.write(json.dumps(plain_trackmap))\n",
    "with open(output_csv, \"w\") as out:\n",
    "    for line in viame.export_tracks_as_csv(plain_trackmap):\n",
    "        out.write(line)\n",
    "\n",
    "print(f'Found {len(trackmap.keys())} tracks and {len(actor_map.keys())} actors')"
   ]
  },
  {
   "cell_type": "code",
   "execution_count": null,
   "metadata": {},
   "outputs": [],
   "source": []
  }
 ]
}